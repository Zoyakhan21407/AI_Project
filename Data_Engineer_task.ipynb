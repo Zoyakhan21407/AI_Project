{
 "cells": [
  {
   "cell_type": "markdown",
   "id": "60f9a9a6",
   "metadata": {},
   "source": [
    "# Reading & Writing Data in Python"
   ]
  },
  {
   "cell_type": "code",
   "execution_count": 66,
   "id": "ae8585c1",
   "metadata": {},
   "outputs": [],
   "source": [
    "import pandas as pd\n",
    "import numpy as np"
   ]
  },
  {
   "cell_type": "code",
   "execution_count": 67,
   "id": "4c1f8d9e",
   "metadata": {},
   "outputs": [],
   "source": [
    "path = \"salarydataset.csv\"\n",
    "df = pd.read_csv(path, header = None) "
   ]
  },
  {
   "cell_type": "markdown",
   "id": "bc268f09",
   "metadata": {},
   "source": [
    "## Printing the Data \n"
   ]
  },
  {
   "cell_type": "code",
   "execution_count": 68,
   "id": "3c040379",
   "metadata": {},
   "outputs": [],
   "source": [
    " # Prints the top n rows"
   ]
  },
  {
   "cell_type": "code",
   "execution_count": 69,
   "id": "f12502bc",
   "metadata": {},
   "outputs": [
    {
     "data": {
      "text/html": [
       "<div>\n",
       "<style scoped>\n",
       "    .dataframe tbody tr th:only-of-type {\n",
       "        vertical-align: middle;\n",
       "    }\n",
       "\n",
       "    .dataframe tbody tr th {\n",
       "        vertical-align: top;\n",
       "    }\n",
       "\n",
       "    .dataframe thead th {\n",
       "        text-align: right;\n",
       "    }\n",
       "</style>\n",
       "<table border=\"1\" class=\"dataframe\">\n",
       "  <thead>\n",
       "    <tr style=\"text-align: right;\">\n",
       "      <th></th>\n",
       "      <th>0</th>\n",
       "      <th>1</th>\n",
       "      <th>2</th>\n",
       "      <th>3</th>\n",
       "      <th>4</th>\n",
       "      <th>5</th>\n",
       "      <th>6</th>\n",
       "      <th>7</th>\n",
       "      <th>8</th>\n",
       "      <th>9</th>\n",
       "      <th>10</th>\n",
       "    </tr>\n",
       "  </thead>\n",
       "  <tbody>\n",
       "    <tr>\n",
       "      <th>0</th>\n",
       "      <td>2024</td>\n",
       "      <td>SE</td>\n",
       "      <td>FT</td>\n",
       "      <td>AI Engineer</td>\n",
       "      <td>202730</td>\n",
       "      <td>USD</td>\n",
       "      <td>202730</td>\n",
       "      <td>US</td>\n",
       "      <td>0</td>\n",
       "      <td>US</td>\n",
       "      <td>M</td>\n",
       "    </tr>\n",
       "    <tr>\n",
       "      <th>1</th>\n",
       "      <td>2024</td>\n",
       "      <td>SE</td>\n",
       "      <td>FT</td>\n",
       "      <td>AI Engineer</td>\n",
       "      <td>?</td>\n",
       "      <td>USD</td>\n",
       "      <td>?</td>\n",
       "      <td>US</td>\n",
       "      <td>0</td>\n",
       "      <td>US</td>\n",
       "      <td>M</td>\n",
       "    </tr>\n",
       "    <tr>\n",
       "      <th>2</th>\n",
       "      <td>2024</td>\n",
       "      <td>SE</td>\n",
       "      <td>FT</td>\n",
       "      <td>Data Engineer</td>\n",
       "      <td>?</td>\n",
       "      <td>USD</td>\n",
       "      <td>?</td>\n",
       "      <td>US</td>\n",
       "      <td>?</td>\n",
       "      <td>US</td>\n",
       "      <td>M</td>\n",
       "    </tr>\n",
       "    <tr>\n",
       "      <th>3</th>\n",
       "      <td>2024</td>\n",
       "      <td>SE</td>\n",
       "      <td>FT</td>\n",
       "      <td>Data Engineer</td>\n",
       "      <td>?</td>\n",
       "      <td>USD</td>\n",
       "      <td>96000</td>\n",
       "      <td>US</td>\n",
       "      <td>?</td>\n",
       "      <td>US</td>\n",
       "      <td>M</td>\n",
       "    </tr>\n",
       "    <tr>\n",
       "      <th>4</th>\n",
       "      <td>2024</td>\n",
       "      <td>SE</td>\n",
       "      <td>FT</td>\n",
       "      <td>Machine Learning Engineer</td>\n",
       "      <td>190000</td>\n",
       "      <td>USD</td>\n",
       "      <td>190000</td>\n",
       "      <td>US</td>\n",
       "      <td>0</td>\n",
       "      <td>US</td>\n",
       "      <td>M</td>\n",
       "    </tr>\n",
       "  </tbody>\n",
       "</table>\n",
       "</div>"
      ],
      "text/plain": [
       "     0   1   2                          3       4    5       6   7  8   9  10\n",
       "0  2024  SE  FT                AI Engineer  202730  USD  202730  US  0  US  M\n",
       "1  2024  SE  FT                AI Engineer       ?  USD       ?  US  0  US  M\n",
       "2  2024  SE  FT              Data Engineer       ?  USD       ?  US  ?  US  M\n",
       "3  2024  SE  FT              Data Engineer       ?  USD   96000  US  ?  US  M\n",
       "4  2024  SE  FT  Machine Learning Engineer  190000  USD  190000  US  0  US  M"
      ]
     },
     "execution_count": 69,
     "metadata": {},
     "output_type": "execute_result"
    }
   ],
   "source": [
    "df.head() "
   ]
  },
  {
   "cell_type": "code",
   "execution_count": 70,
   "id": "8c3d8c87",
   "metadata": {},
   "outputs": [],
   "source": [
    "headers = [\"work_year\",\"experience_level\",\"employment_type\",\"job_title\",\"salary\",\"salary_currency\",\"salary_in_usd\",\"employee_residence\",\"remote_ratio\",\"company_location\",\"company_size\"]"
   ]
  },
  {
   "cell_type": "code",
   "execution_count": 71,
   "id": "9ccee066",
   "metadata": {},
   "outputs": [],
   "source": [
    "df.columns = headers"
   ]
  },
  {
   "cell_type": "code",
   "execution_count": 72,
   "id": "d5ebb33e",
   "metadata": {},
   "outputs": [
    {
     "data": {
      "text/html": [
       "<div>\n",
       "<style scoped>\n",
       "    .dataframe tbody tr th:only-of-type {\n",
       "        vertical-align: middle;\n",
       "    }\n",
       "\n",
       "    .dataframe tbody tr th {\n",
       "        vertical-align: top;\n",
       "    }\n",
       "\n",
       "    .dataframe thead th {\n",
       "        text-align: right;\n",
       "    }\n",
       "</style>\n",
       "<table border=\"1\" class=\"dataframe\">\n",
       "  <thead>\n",
       "    <tr style=\"text-align: right;\">\n",
       "      <th></th>\n",
       "      <th>work_year</th>\n",
       "      <th>experience_level</th>\n",
       "      <th>employment_type</th>\n",
       "      <th>job_title</th>\n",
       "      <th>salary</th>\n",
       "      <th>salary_currency</th>\n",
       "      <th>salary_in_usd</th>\n",
       "      <th>employee_residence</th>\n",
       "      <th>remote_ratio</th>\n",
       "      <th>company_location</th>\n",
       "      <th>company_size</th>\n",
       "    </tr>\n",
       "  </thead>\n",
       "  <tbody>\n",
       "    <tr>\n",
       "      <th>0</th>\n",
       "      <td>2024</td>\n",
       "      <td>SE</td>\n",
       "      <td>FT</td>\n",
       "      <td>AI Engineer</td>\n",
       "      <td>202730</td>\n",
       "      <td>USD</td>\n",
       "      <td>202730</td>\n",
       "      <td>US</td>\n",
       "      <td>0</td>\n",
       "      <td>US</td>\n",
       "      <td>M</td>\n",
       "    </tr>\n",
       "    <tr>\n",
       "      <th>1</th>\n",
       "      <td>2024</td>\n",
       "      <td>SE</td>\n",
       "      <td>FT</td>\n",
       "      <td>AI Engineer</td>\n",
       "      <td>?</td>\n",
       "      <td>USD</td>\n",
       "      <td>?</td>\n",
       "      <td>US</td>\n",
       "      <td>0</td>\n",
       "      <td>US</td>\n",
       "      <td>M</td>\n",
       "    </tr>\n",
       "    <tr>\n",
       "      <th>2</th>\n",
       "      <td>2024</td>\n",
       "      <td>SE</td>\n",
       "      <td>FT</td>\n",
       "      <td>Data Engineer</td>\n",
       "      <td>?</td>\n",
       "      <td>USD</td>\n",
       "      <td>?</td>\n",
       "      <td>US</td>\n",
       "      <td>?</td>\n",
       "      <td>US</td>\n",
       "      <td>M</td>\n",
       "    </tr>\n",
       "    <tr>\n",
       "      <th>3</th>\n",
       "      <td>2024</td>\n",
       "      <td>SE</td>\n",
       "      <td>FT</td>\n",
       "      <td>Data Engineer</td>\n",
       "      <td>?</td>\n",
       "      <td>USD</td>\n",
       "      <td>96000</td>\n",
       "      <td>US</td>\n",
       "      <td>?</td>\n",
       "      <td>US</td>\n",
       "      <td>M</td>\n",
       "    </tr>\n",
       "    <tr>\n",
       "      <th>4</th>\n",
       "      <td>2024</td>\n",
       "      <td>SE</td>\n",
       "      <td>FT</td>\n",
       "      <td>Machine Learning Engineer</td>\n",
       "      <td>190000</td>\n",
       "      <td>USD</td>\n",
       "      <td>190000</td>\n",
       "      <td>US</td>\n",
       "      <td>0</td>\n",
       "      <td>US</td>\n",
       "      <td>M</td>\n",
       "    </tr>\n",
       "  </tbody>\n",
       "</table>\n",
       "</div>"
      ],
      "text/plain": [
       "   work_year experience_level employment_type                  job_title  \\\n",
       "0       2024               SE              FT                AI Engineer   \n",
       "1       2024               SE              FT                AI Engineer   \n",
       "2       2024               SE              FT              Data Engineer   \n",
       "3       2024               SE              FT              Data Engineer   \n",
       "4       2024               SE              FT  Machine Learning Engineer   \n",
       "\n",
       "   salary salary_currency salary_in_usd employee_residence remote_ratio  \\\n",
       "0  202730             USD        202730                 US            0   \n",
       "1       ?             USD             ?                 US            0   \n",
       "2       ?             USD             ?                 US            ?   \n",
       "3       ?             USD         96000                 US            ?   \n",
       "4  190000             USD        190000                 US            0   \n",
       "\n",
       "  company_location company_size  \n",
       "0               US            M  \n",
       "1               US            M  \n",
       "2               US            M  \n",
       "3               US            M  \n",
       "4               US            M  "
      ]
     },
     "execution_count": 72,
     "metadata": {},
     "output_type": "execute_result"
    }
   ],
   "source": [
    "df.head()"
   ]
  },
  {
   "cell_type": "markdown",
   "id": "7b7b3e69",
   "metadata": {},
   "source": [
    "# Data Preprocessing"
   ]
  },
  {
   "cell_type": "markdown",
   "id": "c3a56931",
   "metadata": {},
   "source": [
    "\n",
    "## Checking Data Types of data\n"
   ]
  },
  {
   "cell_type": "code",
   "execution_count": 73,
   "id": "b9bf9518",
   "metadata": {},
   "outputs": [
    {
     "data": {
      "text/plain": [
       "work_year              int64\n",
       "experience_level      object\n",
       "employment_type       object\n",
       "job_title             object\n",
       "salary                object\n",
       "salary_currency       object\n",
       "salary_in_usd         object\n",
       "employee_residence    object\n",
       "remote_ratio          object\n",
       "company_location      object\n",
       "company_size          object\n",
       "dtype: object"
      ]
     },
     "execution_count": 73,
     "metadata": {},
     "output_type": "execute_result"
    }
   ],
   "source": [
    "df.dtypes"
   ]
  },
  {
   "cell_type": "code",
   "execution_count": 74,
   "id": "1c12c34f",
   "metadata": {},
   "outputs": [
    {
     "data": {
      "text/html": [
       "<div>\n",
       "<style scoped>\n",
       "    .dataframe tbody tr th:only-of-type {\n",
       "        vertical-align: middle;\n",
       "    }\n",
       "\n",
       "    .dataframe tbody tr th {\n",
       "        vertical-align: top;\n",
       "    }\n",
       "\n",
       "    .dataframe thead th {\n",
       "        text-align: right;\n",
       "    }\n",
       "</style>\n",
       "<table border=\"1\" class=\"dataframe\">\n",
       "  <thead>\n",
       "    <tr style=\"text-align: right;\">\n",
       "      <th></th>\n",
       "      <th>work_year</th>\n",
       "    </tr>\n",
       "  </thead>\n",
       "  <tbody>\n",
       "    <tr>\n",
       "      <th>count</th>\n",
       "      <td>4999.000000</td>\n",
       "    </tr>\n",
       "    <tr>\n",
       "      <th>mean</th>\n",
       "      <td>2023.997199</td>\n",
       "    </tr>\n",
       "    <tr>\n",
       "      <th>std</th>\n",
       "      <td>0.066287</td>\n",
       "    </tr>\n",
       "    <tr>\n",
       "      <th>min</th>\n",
       "      <td>2022.000000</td>\n",
       "    </tr>\n",
       "    <tr>\n",
       "      <th>25%</th>\n",
       "      <td>2024.000000</td>\n",
       "    </tr>\n",
       "    <tr>\n",
       "      <th>50%</th>\n",
       "      <td>2024.000000</td>\n",
       "    </tr>\n",
       "    <tr>\n",
       "      <th>75%</th>\n",
       "      <td>2024.000000</td>\n",
       "    </tr>\n",
       "    <tr>\n",
       "      <th>max</th>\n",
       "      <td>2024.000000</td>\n",
       "    </tr>\n",
       "  </tbody>\n",
       "</table>\n",
       "</div>"
      ],
      "text/plain": [
       "         work_year\n",
       "count  4999.000000\n",
       "mean   2023.997199\n",
       "std       0.066287\n",
       "min    2022.000000\n",
       "25%    2024.000000\n",
       "50%    2024.000000\n",
       "75%    2024.000000\n",
       "max    2024.000000"
      ]
     },
     "execution_count": 74,
     "metadata": {},
     "output_type": "execute_result"
    }
   ],
   "source": [
    "df.describe() #Does not include columns with non-numeric data types"
   ]
  },
  {
   "cell_type": "markdown",
   "id": "76fd910c",
   "metadata": {},
   "source": [
    "## Accessing columns of a data frame"
   ]
  },
  {
   "cell_type": "code",
   "execution_count": 75,
   "id": "278878dc",
   "metadata": {},
   "outputs": [
    {
     "data": {
      "text/plain": [
       "0       SE\n",
       "1       SE\n",
       "2       SE\n",
       "3       SE\n",
       "4       SE\n",
       "        ..\n",
       "4994    MI\n",
       "4995    SE\n",
       "4996    SE\n",
       "4997    SE\n",
       "4998    SE\n",
       "Name: experience_level, Length: 4999, dtype: object"
      ]
     },
     "execution_count": 75,
     "metadata": {},
     "output_type": "execute_result"
    }
   ],
   "source": [
    "df[\"experience_level\"]"
   ]
  },
  {
   "cell_type": "code",
   "execution_count": 76,
   "id": "ffdc7819",
   "metadata": {},
   "outputs": [
    {
     "data": {
      "text/plain": [
       "0                     AI Engineer\n",
       "1                     AI Engineer\n",
       "2                   Data Engineer\n",
       "3                   Data Engineer\n",
       "4       Machine Learning Engineer\n",
       "                  ...            \n",
       "4994    Machine Learning Engineer\n",
       "4995               Data Scientist\n",
       "4996               Data Scientist\n",
       "4997                 Data Science\n",
       "4998                 Data Science\n",
       "Name: job_title, Length: 4999, dtype: object"
      ]
     },
     "execution_count": 76,
     "metadata": {},
     "output_type": "execute_result"
    }
   ],
   "source": [
    "df[\"job_title\"]"
   ]
  },
  {
   "cell_type": "markdown",
   "id": "05a05de0",
   "metadata": {},
   "source": [
    "## Dealing with Missing Values"
   ]
  },
  {
   "cell_type": "markdown",
   "id": "e8f971d1",
   "metadata": {},
   "source": [
    "## Replace ? in _normalized-losses_ column by NAN\n"
   ]
  },
  {
   "cell_type": "code",
   "execution_count": 77,
   "id": "fe6f72d6",
   "metadata": {},
   "outputs": [
    {
     "data": {
      "text/html": [
       "<div>\n",
       "<style scoped>\n",
       "    .dataframe tbody tr th:only-of-type {\n",
       "        vertical-align: middle;\n",
       "    }\n",
       "\n",
       "    .dataframe tbody tr th {\n",
       "        vertical-align: top;\n",
       "    }\n",
       "\n",
       "    .dataframe thead th {\n",
       "        text-align: right;\n",
       "    }\n",
       "</style>\n",
       "<table border=\"1\" class=\"dataframe\">\n",
       "  <thead>\n",
       "    <tr style=\"text-align: right;\">\n",
       "      <th></th>\n",
       "      <th>work_year</th>\n",
       "      <th>experience_level</th>\n",
       "      <th>employment_type</th>\n",
       "      <th>job_title</th>\n",
       "      <th>salary</th>\n",
       "      <th>salary_currency</th>\n",
       "      <th>salary_in_usd</th>\n",
       "      <th>employee_residence</th>\n",
       "      <th>remote_ratio</th>\n",
       "      <th>company_location</th>\n",
       "      <th>company_size</th>\n",
       "    </tr>\n",
       "  </thead>\n",
       "  <tbody>\n",
       "    <tr>\n",
       "      <th>0</th>\n",
       "      <td>2024</td>\n",
       "      <td>SE</td>\n",
       "      <td>FT</td>\n",
       "      <td>AI Engineer</td>\n",
       "      <td>202730</td>\n",
       "      <td>USD</td>\n",
       "      <td>202730</td>\n",
       "      <td>US</td>\n",
       "      <td>0</td>\n",
       "      <td>US</td>\n",
       "      <td>M</td>\n",
       "    </tr>\n",
       "    <tr>\n",
       "      <th>1</th>\n",
       "      <td>2024</td>\n",
       "      <td>SE</td>\n",
       "      <td>FT</td>\n",
       "      <td>AI Engineer</td>\n",
       "      <td>?</td>\n",
       "      <td>USD</td>\n",
       "      <td>?</td>\n",
       "      <td>US</td>\n",
       "      <td>0</td>\n",
       "      <td>US</td>\n",
       "      <td>M</td>\n",
       "    </tr>\n",
       "    <tr>\n",
       "      <th>2</th>\n",
       "      <td>2024</td>\n",
       "      <td>SE</td>\n",
       "      <td>FT</td>\n",
       "      <td>Data Engineer</td>\n",
       "      <td>?</td>\n",
       "      <td>USD</td>\n",
       "      <td>?</td>\n",
       "      <td>US</td>\n",
       "      <td>?</td>\n",
       "      <td>US</td>\n",
       "      <td>M</td>\n",
       "    </tr>\n",
       "    <tr>\n",
       "      <th>3</th>\n",
       "      <td>2024</td>\n",
       "      <td>SE</td>\n",
       "      <td>FT</td>\n",
       "      <td>Data Engineer</td>\n",
       "      <td>?</td>\n",
       "      <td>USD</td>\n",
       "      <td>96000</td>\n",
       "      <td>US</td>\n",
       "      <td>?</td>\n",
       "      <td>US</td>\n",
       "      <td>M</td>\n",
       "    </tr>\n",
       "    <tr>\n",
       "      <th>4</th>\n",
       "      <td>2024</td>\n",
       "      <td>SE</td>\n",
       "      <td>FT</td>\n",
       "      <td>Machine Learning Engineer</td>\n",
       "      <td>190000</td>\n",
       "      <td>USD</td>\n",
       "      <td>190000</td>\n",
       "      <td>US</td>\n",
       "      <td>0</td>\n",
       "      <td>US</td>\n",
       "      <td>M</td>\n",
       "    </tr>\n",
       "  </tbody>\n",
       "</table>\n",
       "</div>"
      ],
      "text/plain": [
       "   work_year experience_level employment_type                  job_title  \\\n",
       "0       2024               SE              FT                AI Engineer   \n",
       "1       2024               SE              FT                AI Engineer   \n",
       "2       2024               SE              FT              Data Engineer   \n",
       "3       2024               SE              FT              Data Engineer   \n",
       "4       2024               SE              FT  Machine Learning Engineer   \n",
       "\n",
       "   salary salary_currency salary_in_usd employee_residence remote_ratio  \\\n",
       "0  202730             USD        202730                 US            0   \n",
       "1       ?             USD             ?                 US            0   \n",
       "2       ?             USD             ?                 US            ?   \n",
       "3       ?             USD         96000                 US            ?   \n",
       "4  190000             USD        190000                 US            0   \n",
       "\n",
       "  company_location company_size  \n",
       "0               US            M  \n",
       "1               US            M  \n",
       "2               US            M  \n",
       "3               US            M  \n",
       "4               US            M  "
      ]
     },
     "execution_count": 77,
     "metadata": {},
     "output_type": "execute_result"
    }
   ],
   "source": [
    "df.head()"
   ]
  },
  {
   "cell_type": "code",
   "execution_count": 78,
   "id": "49e746cd",
   "metadata": {},
   "outputs": [
    {
     "data": {
      "text/plain": [
       "0       202730\n",
       "1            ?\n",
       "2            ?\n",
       "3            ?\n",
       "4       190000\n",
       "         ...  \n",
       "4994    230000\n",
       "4995     65000\n",
       "4996     55000\n",
       "4997    267900\n",
       "4998    234700\n",
       "Name: salary, Length: 4999, dtype: object"
      ]
     },
     "execution_count": 78,
     "metadata": {},
     "output_type": "execute_result"
    }
   ],
   "source": [
    "df[\"salary\"]"
   ]
  },
  {
   "cell_type": "code",
   "execution_count": 79,
   "id": "0de66661",
   "metadata": {},
   "outputs": [],
   "source": [
    "df[\"salary\"].replace(\"?\", np.nan, inplace = True)"
   ]
  },
  {
   "cell_type": "code",
   "execution_count": 80,
   "id": "d31d4ed4",
   "metadata": {},
   "outputs": [
    {
     "data": {
      "text/html": [
       "<div>\n",
       "<style scoped>\n",
       "    .dataframe tbody tr th:only-of-type {\n",
       "        vertical-align: middle;\n",
       "    }\n",
       "\n",
       "    .dataframe tbody tr th {\n",
       "        vertical-align: top;\n",
       "    }\n",
       "\n",
       "    .dataframe thead th {\n",
       "        text-align: right;\n",
       "    }\n",
       "</style>\n",
       "<table border=\"1\" class=\"dataframe\">\n",
       "  <thead>\n",
       "    <tr style=\"text-align: right;\">\n",
       "      <th></th>\n",
       "      <th>work_year</th>\n",
       "      <th>experience_level</th>\n",
       "      <th>employment_type</th>\n",
       "      <th>job_title</th>\n",
       "      <th>salary</th>\n",
       "      <th>salary_currency</th>\n",
       "      <th>salary_in_usd</th>\n",
       "      <th>employee_residence</th>\n",
       "      <th>remote_ratio</th>\n",
       "      <th>company_location</th>\n",
       "      <th>company_size</th>\n",
       "    </tr>\n",
       "  </thead>\n",
       "  <tbody>\n",
       "    <tr>\n",
       "      <th>0</th>\n",
       "      <td>2024</td>\n",
       "      <td>SE</td>\n",
       "      <td>FT</td>\n",
       "      <td>AI Engineer</td>\n",
       "      <td>202730</td>\n",
       "      <td>USD</td>\n",
       "      <td>202730</td>\n",
       "      <td>US</td>\n",
       "      <td>0</td>\n",
       "      <td>US</td>\n",
       "      <td>M</td>\n",
       "    </tr>\n",
       "    <tr>\n",
       "      <th>1</th>\n",
       "      <td>2024</td>\n",
       "      <td>SE</td>\n",
       "      <td>FT</td>\n",
       "      <td>AI Engineer</td>\n",
       "      <td>NaN</td>\n",
       "      <td>USD</td>\n",
       "      <td>?</td>\n",
       "      <td>US</td>\n",
       "      <td>0</td>\n",
       "      <td>US</td>\n",
       "      <td>M</td>\n",
       "    </tr>\n",
       "    <tr>\n",
       "      <th>2</th>\n",
       "      <td>2024</td>\n",
       "      <td>SE</td>\n",
       "      <td>FT</td>\n",
       "      <td>Data Engineer</td>\n",
       "      <td>NaN</td>\n",
       "      <td>USD</td>\n",
       "      <td>?</td>\n",
       "      <td>US</td>\n",
       "      <td>?</td>\n",
       "      <td>US</td>\n",
       "      <td>M</td>\n",
       "    </tr>\n",
       "    <tr>\n",
       "      <th>3</th>\n",
       "      <td>2024</td>\n",
       "      <td>SE</td>\n",
       "      <td>FT</td>\n",
       "      <td>Data Engineer</td>\n",
       "      <td>NaN</td>\n",
       "      <td>USD</td>\n",
       "      <td>96000</td>\n",
       "      <td>US</td>\n",
       "      <td>?</td>\n",
       "      <td>US</td>\n",
       "      <td>M</td>\n",
       "    </tr>\n",
       "    <tr>\n",
       "      <th>4</th>\n",
       "      <td>2024</td>\n",
       "      <td>SE</td>\n",
       "      <td>FT</td>\n",
       "      <td>Machine Learning Engineer</td>\n",
       "      <td>190000</td>\n",
       "      <td>USD</td>\n",
       "      <td>190000</td>\n",
       "      <td>US</td>\n",
       "      <td>0</td>\n",
       "      <td>US</td>\n",
       "      <td>M</td>\n",
       "    </tr>\n",
       "  </tbody>\n",
       "</table>\n",
       "</div>"
      ],
      "text/plain": [
       "   work_year experience_level employment_type                  job_title  \\\n",
       "0       2024               SE              FT                AI Engineer   \n",
       "1       2024               SE              FT                AI Engineer   \n",
       "2       2024               SE              FT              Data Engineer   \n",
       "3       2024               SE              FT              Data Engineer   \n",
       "4       2024               SE              FT  Machine Learning Engineer   \n",
       "\n",
       "   salary salary_currency salary_in_usd employee_residence remote_ratio  \\\n",
       "0  202730             USD        202730                 US            0   \n",
       "1     NaN             USD             ?                 US            0   \n",
       "2     NaN             USD             ?                 US            ?   \n",
       "3     NaN             USD         96000                 US            ?   \n",
       "4  190000             USD        190000                 US            0   \n",
       "\n",
       "  company_location company_size  \n",
       "0               US            M  \n",
       "1               US            M  \n",
       "2               US            M  \n",
       "3               US            M  \n",
       "4               US            M  "
      ]
     },
     "execution_count": 80,
     "metadata": {},
     "output_type": "execute_result"
    }
   ],
   "source": [
    "df.head()"
   ]
  },
  {
   "cell_type": "markdown",
   "id": "32f44806",
   "metadata": {},
   "source": [
    "# Convert this column from object to numeric column\n"
   ]
  },
  {
   "cell_type": "code",
   "execution_count": 81,
   "id": "adddaaff",
   "metadata": {},
   "outputs": [],
   "source": [
    "df[\"salary\"] = pd.to_numeric(df[\"salary\"]) \n"
   ]
  },
  {
   "cell_type": "code",
   "execution_count": 82,
   "id": "1cac3bff",
   "metadata": {},
   "outputs": [
    {
     "data": {
      "text/plain": [
       "work_year               int64\n",
       "experience_level       object\n",
       "employment_type        object\n",
       "job_title              object\n",
       "salary                float64\n",
       "salary_currency        object\n",
       "salary_in_usd          object\n",
       "employee_residence     object\n",
       "remote_ratio           object\n",
       "company_location       object\n",
       "company_size           object\n",
       "dtype: object"
      ]
     },
     "execution_count": 82,
     "metadata": {},
     "output_type": "execute_result"
    }
   ],
   "source": [
    "df.dtypes"
   ]
  },
  {
   "cell_type": "code",
   "execution_count": 83,
   "id": "72658870",
   "metadata": {},
   "outputs": [
    {
     "data": {
      "text/plain": [
       "151294.50260312375"
      ]
     },
     "execution_count": 83,
     "metadata": {},
     "output_type": "execute_result"
    }
   ],
   "source": [
    "mean= df[\"salary\"].mean()\n",
    "mean"
   ]
  },
  {
   "cell_type": "code",
   "execution_count": 84,
   "id": "e917534f",
   "metadata": {},
   "outputs": [],
   "source": [
    "df[\"salary\"].replace(np.nan, mean, inplace=True) # replace nan with mean value # inplace=True (This will replace nan in the original records and will not create a new copy or column)"
   ]
  },
  {
   "cell_type": "code",
   "execution_count": 85,
   "id": "2db2f881",
   "metadata": {},
   "outputs": [
    {
     "data": {
      "text/plain": [
       "0       202730.000000\n",
       "1       151294.502603\n",
       "2       151294.502603\n",
       "3       151294.502603\n",
       "4       190000.000000\n",
       "            ...      \n",
       "4994    230000.000000\n",
       "4995     65000.000000\n",
       "4996     55000.000000\n",
       "4997    267900.000000\n",
       "4998    234700.000000\n",
       "Name: salary, Length: 4999, dtype: float64"
      ]
     },
     "execution_count": 85,
     "metadata": {},
     "output_type": "execute_result"
    }
   ],
   "source": [
    "df[\"salary\"]"
   ]
  },
  {
   "cell_type": "code",
   "execution_count": 86,
   "id": "ca030d17",
   "metadata": {},
   "outputs": [
    {
     "data": {
      "text/plain": [
       "0       0\n",
       "1       0\n",
       "2       ?\n",
       "3       ?\n",
       "4       0\n",
       "       ..\n",
       "4994    0\n",
       "4995    0\n",
       "4996    0\n",
       "4997    0\n",
       "4998    0\n",
       "Name: remote_ratio, Length: 4999, dtype: object"
      ]
     },
     "execution_count": 86,
     "metadata": {},
     "output_type": "execute_result"
    }
   ],
   "source": [
    "df[\"remote_ratio\"]"
   ]
  },
  {
   "cell_type": "code",
   "execution_count": 87,
   "id": "159d950e",
   "metadata": {},
   "outputs": [],
   "source": [
    "df[\"remote_ratio\"].replace(\"?\", np.nan, inplace = True)"
   ]
  },
  {
   "cell_type": "code",
   "execution_count": 88,
   "id": "ee267654",
   "metadata": {},
   "outputs": [
    {
     "data": {
      "text/html": [
       "<div>\n",
       "<style scoped>\n",
       "    .dataframe tbody tr th:only-of-type {\n",
       "        vertical-align: middle;\n",
       "    }\n",
       "\n",
       "    .dataframe tbody tr th {\n",
       "        vertical-align: top;\n",
       "    }\n",
       "\n",
       "    .dataframe thead th {\n",
       "        text-align: right;\n",
       "    }\n",
       "</style>\n",
       "<table border=\"1\" class=\"dataframe\">\n",
       "  <thead>\n",
       "    <tr style=\"text-align: right;\">\n",
       "      <th></th>\n",
       "      <th>work_year</th>\n",
       "      <th>experience_level</th>\n",
       "      <th>employment_type</th>\n",
       "      <th>job_title</th>\n",
       "      <th>salary</th>\n",
       "      <th>salary_currency</th>\n",
       "      <th>salary_in_usd</th>\n",
       "      <th>employee_residence</th>\n",
       "      <th>remote_ratio</th>\n",
       "      <th>company_location</th>\n",
       "      <th>company_size</th>\n",
       "    </tr>\n",
       "  </thead>\n",
       "  <tbody>\n",
       "    <tr>\n",
       "      <th>0</th>\n",
       "      <td>2024</td>\n",
       "      <td>SE</td>\n",
       "      <td>FT</td>\n",
       "      <td>AI Engineer</td>\n",
       "      <td>202730.000000</td>\n",
       "      <td>USD</td>\n",
       "      <td>202730</td>\n",
       "      <td>US</td>\n",
       "      <td>0</td>\n",
       "      <td>US</td>\n",
       "      <td>M</td>\n",
       "    </tr>\n",
       "    <tr>\n",
       "      <th>1</th>\n",
       "      <td>2024</td>\n",
       "      <td>SE</td>\n",
       "      <td>FT</td>\n",
       "      <td>AI Engineer</td>\n",
       "      <td>151294.502603</td>\n",
       "      <td>USD</td>\n",
       "      <td>?</td>\n",
       "      <td>US</td>\n",
       "      <td>0</td>\n",
       "      <td>US</td>\n",
       "      <td>M</td>\n",
       "    </tr>\n",
       "    <tr>\n",
       "      <th>2</th>\n",
       "      <td>2024</td>\n",
       "      <td>SE</td>\n",
       "      <td>FT</td>\n",
       "      <td>Data Engineer</td>\n",
       "      <td>151294.502603</td>\n",
       "      <td>USD</td>\n",
       "      <td>?</td>\n",
       "      <td>US</td>\n",
       "      <td>NaN</td>\n",
       "      <td>US</td>\n",
       "      <td>M</td>\n",
       "    </tr>\n",
       "    <tr>\n",
       "      <th>3</th>\n",
       "      <td>2024</td>\n",
       "      <td>SE</td>\n",
       "      <td>FT</td>\n",
       "      <td>Data Engineer</td>\n",
       "      <td>151294.502603</td>\n",
       "      <td>USD</td>\n",
       "      <td>96000</td>\n",
       "      <td>US</td>\n",
       "      <td>NaN</td>\n",
       "      <td>US</td>\n",
       "      <td>M</td>\n",
       "    </tr>\n",
       "    <tr>\n",
       "      <th>4</th>\n",
       "      <td>2024</td>\n",
       "      <td>SE</td>\n",
       "      <td>FT</td>\n",
       "      <td>Machine Learning Engineer</td>\n",
       "      <td>190000.000000</td>\n",
       "      <td>USD</td>\n",
       "      <td>190000</td>\n",
       "      <td>US</td>\n",
       "      <td>0</td>\n",
       "      <td>US</td>\n",
       "      <td>M</td>\n",
       "    </tr>\n",
       "  </tbody>\n",
       "</table>\n",
       "</div>"
      ],
      "text/plain": [
       "   work_year experience_level employment_type                  job_title  \\\n",
       "0       2024               SE              FT                AI Engineer   \n",
       "1       2024               SE              FT                AI Engineer   \n",
       "2       2024               SE              FT              Data Engineer   \n",
       "3       2024               SE              FT              Data Engineer   \n",
       "4       2024               SE              FT  Machine Learning Engineer   \n",
       "\n",
       "          salary salary_currency salary_in_usd employee_residence  \\\n",
       "0  202730.000000             USD        202730                 US   \n",
       "1  151294.502603             USD             ?                 US   \n",
       "2  151294.502603             USD             ?                 US   \n",
       "3  151294.502603             USD         96000                 US   \n",
       "4  190000.000000             USD        190000                 US   \n",
       "\n",
       "  remote_ratio company_location company_size  \n",
       "0            0               US            M  \n",
       "1            0               US            M  \n",
       "2          NaN               US            M  \n",
       "3          NaN               US            M  \n",
       "4            0               US            M  "
      ]
     },
     "execution_count": 88,
     "metadata": {},
     "output_type": "execute_result"
    }
   ],
   "source": [
    "df.head()"
   ]
  },
  {
   "cell_type": "code",
   "execution_count": 89,
   "id": "dd06da72",
   "metadata": {},
   "outputs": [],
   "source": [
    "df[\"remote_ratio\"] = pd.to_numeric(df[\"remote_ratio\"]) # Convert this column from object to numeric column\n"
   ]
  },
  {
   "cell_type": "code",
   "execution_count": 90,
   "id": "955b92b1",
   "metadata": {},
   "outputs": [
    {
     "data": {
      "text/plain": [
       "work_year               int64\n",
       "experience_level       object\n",
       "employment_type        object\n",
       "job_title              object\n",
       "salary                float64\n",
       "salary_currency        object\n",
       "salary_in_usd          object\n",
       "employee_residence     object\n",
       "remote_ratio          float64\n",
       "company_location       object\n",
       "company_size           object\n",
       "dtype: object"
      ]
     },
     "execution_count": 90,
     "metadata": {},
     "output_type": "execute_result"
    }
   ],
   "source": [
    "df.dtypes"
   ]
  },
  {
   "cell_type": "code",
   "execution_count": 91,
   "id": "ec60f63b",
   "metadata": {},
   "outputs": [
    {
     "data": {
      "text/plain": [
       "24.379503602882306"
      ]
     },
     "execution_count": 91,
     "metadata": {},
     "output_type": "execute_result"
    }
   ],
   "source": [
    "mean= df[\"remote_ratio\"].mean()\n",
    "mean"
   ]
  },
  {
   "cell_type": "code",
   "execution_count": 92,
   "id": "51d6e807",
   "metadata": {},
   "outputs": [],
   "source": [
    "df[\"remote_ratio\"].replace(np.nan, mean, inplace=True)"
   ]
  },
  {
   "cell_type": "code",
   "execution_count": 93,
   "id": "ce8a027e",
   "metadata": {},
   "outputs": [
    {
     "data": {
      "text/plain": [
       "0        0.000000\n",
       "1        0.000000\n",
       "2       24.379504\n",
       "3       24.379504\n",
       "4        0.000000\n",
       "          ...    \n",
       "4994     0.000000\n",
       "4995     0.000000\n",
       "4996     0.000000\n",
       "4997     0.000000\n",
       "4998     0.000000\n",
       "Name: remote_ratio, Length: 4999, dtype: float64"
      ]
     },
     "execution_count": 93,
     "metadata": {},
     "output_type": "execute_result"
    }
   ],
   "source": [
    "df[\"remote_ratio\"]"
   ]
  },
  {
   "cell_type": "code",
   "execution_count": 94,
   "id": "ecdeae46",
   "metadata": {},
   "outputs": [
    {
     "data": {
      "text/plain": [
       "0       202730\n",
       "1            ?\n",
       "2            ?\n",
       "3        96000\n",
       "4       190000\n",
       "         ...  \n",
       "4994    230000\n",
       "4995     81250\n",
       "4996     68750\n",
       "4997    267900\n",
       "4998    234700\n",
       "Name: salary_in_usd, Length: 4999, dtype: object"
      ]
     },
     "execution_count": 94,
     "metadata": {},
     "output_type": "execute_result"
    }
   ],
   "source": [
    "df[\"salary_in_usd\"]"
   ]
  },
  {
   "cell_type": "code",
   "execution_count": 95,
   "id": "039b346a",
   "metadata": {},
   "outputs": [],
   "source": [
    "df[\"salary_in_usd\"].replace(\"?\", np.nan, inplace = True)"
   ]
  },
  {
   "cell_type": "code",
   "execution_count": 96,
   "id": "c3222200",
   "metadata": {},
   "outputs": [
    {
     "data": {
      "text/html": [
       "<div>\n",
       "<style scoped>\n",
       "    .dataframe tbody tr th:only-of-type {\n",
       "        vertical-align: middle;\n",
       "    }\n",
       "\n",
       "    .dataframe tbody tr th {\n",
       "        vertical-align: top;\n",
       "    }\n",
       "\n",
       "    .dataframe thead th {\n",
       "        text-align: right;\n",
       "    }\n",
       "</style>\n",
       "<table border=\"1\" class=\"dataframe\">\n",
       "  <thead>\n",
       "    <tr style=\"text-align: right;\">\n",
       "      <th></th>\n",
       "      <th>work_year</th>\n",
       "      <th>experience_level</th>\n",
       "      <th>employment_type</th>\n",
       "      <th>job_title</th>\n",
       "      <th>salary</th>\n",
       "      <th>salary_currency</th>\n",
       "      <th>salary_in_usd</th>\n",
       "      <th>employee_residence</th>\n",
       "      <th>remote_ratio</th>\n",
       "      <th>company_location</th>\n",
       "      <th>company_size</th>\n",
       "    </tr>\n",
       "  </thead>\n",
       "  <tbody>\n",
       "    <tr>\n",
       "      <th>0</th>\n",
       "      <td>2024</td>\n",
       "      <td>SE</td>\n",
       "      <td>FT</td>\n",
       "      <td>AI Engineer</td>\n",
       "      <td>202730.000000</td>\n",
       "      <td>USD</td>\n",
       "      <td>202730</td>\n",
       "      <td>US</td>\n",
       "      <td>0.000000</td>\n",
       "      <td>US</td>\n",
       "      <td>M</td>\n",
       "    </tr>\n",
       "    <tr>\n",
       "      <th>1</th>\n",
       "      <td>2024</td>\n",
       "      <td>SE</td>\n",
       "      <td>FT</td>\n",
       "      <td>AI Engineer</td>\n",
       "      <td>151294.502603</td>\n",
       "      <td>USD</td>\n",
       "      <td>NaN</td>\n",
       "      <td>US</td>\n",
       "      <td>0.000000</td>\n",
       "      <td>US</td>\n",
       "      <td>M</td>\n",
       "    </tr>\n",
       "    <tr>\n",
       "      <th>2</th>\n",
       "      <td>2024</td>\n",
       "      <td>SE</td>\n",
       "      <td>FT</td>\n",
       "      <td>Data Engineer</td>\n",
       "      <td>151294.502603</td>\n",
       "      <td>USD</td>\n",
       "      <td>NaN</td>\n",
       "      <td>US</td>\n",
       "      <td>24.379504</td>\n",
       "      <td>US</td>\n",
       "      <td>M</td>\n",
       "    </tr>\n",
       "    <tr>\n",
       "      <th>3</th>\n",
       "      <td>2024</td>\n",
       "      <td>SE</td>\n",
       "      <td>FT</td>\n",
       "      <td>Data Engineer</td>\n",
       "      <td>151294.502603</td>\n",
       "      <td>USD</td>\n",
       "      <td>96000</td>\n",
       "      <td>US</td>\n",
       "      <td>24.379504</td>\n",
       "      <td>US</td>\n",
       "      <td>M</td>\n",
       "    </tr>\n",
       "    <tr>\n",
       "      <th>4</th>\n",
       "      <td>2024</td>\n",
       "      <td>SE</td>\n",
       "      <td>FT</td>\n",
       "      <td>Machine Learning Engineer</td>\n",
       "      <td>190000.000000</td>\n",
       "      <td>USD</td>\n",
       "      <td>190000</td>\n",
       "      <td>US</td>\n",
       "      <td>0.000000</td>\n",
       "      <td>US</td>\n",
       "      <td>M</td>\n",
       "    </tr>\n",
       "  </tbody>\n",
       "</table>\n",
       "</div>"
      ],
      "text/plain": [
       "   work_year experience_level employment_type                  job_title  \\\n",
       "0       2024               SE              FT                AI Engineer   \n",
       "1       2024               SE              FT                AI Engineer   \n",
       "2       2024               SE              FT              Data Engineer   \n",
       "3       2024               SE              FT              Data Engineer   \n",
       "4       2024               SE              FT  Machine Learning Engineer   \n",
       "\n",
       "          salary salary_currency salary_in_usd employee_residence  \\\n",
       "0  202730.000000             USD        202730                 US   \n",
       "1  151294.502603             USD           NaN                 US   \n",
       "2  151294.502603             USD           NaN                 US   \n",
       "3  151294.502603             USD         96000                 US   \n",
       "4  190000.000000             USD        190000                 US   \n",
       "\n",
       "   remote_ratio company_location company_size  \n",
       "0      0.000000               US            M  \n",
       "1      0.000000               US            M  \n",
       "2     24.379504               US            M  \n",
       "3     24.379504               US            M  \n",
       "4      0.000000               US            M  "
      ]
     },
     "execution_count": 96,
     "metadata": {},
     "output_type": "execute_result"
    }
   ],
   "source": [
    "df.head()"
   ]
  },
  {
   "cell_type": "code",
   "execution_count": 97,
   "id": "1a54bbef",
   "metadata": {},
   "outputs": [],
   "source": [
    "df[\"salary_in_usd\"] = pd.to_numeric(df[\"salary_in_usd\"]) # Convert this column from object to numeric column\n"
   ]
  },
  {
   "cell_type": "code",
   "execution_count": 98,
   "id": "0c0dda29",
   "metadata": {},
   "outputs": [
    {
     "data": {
      "text/plain": [
       "work_year               int64\n",
       "experience_level       object\n",
       "employment_type        object\n",
       "job_title              object\n",
       "salary                float64\n",
       "salary_currency        object\n",
       "salary_in_usd         float64\n",
       "employee_residence     object\n",
       "remote_ratio          float64\n",
       "company_location       object\n",
       "company_size           object\n",
       "dtype: object"
      ]
     },
     "execution_count": 98,
     "metadata": {},
     "output_type": "execute_result"
    }
   ],
   "source": [
    "df.dtypes"
   ]
  },
  {
   "cell_type": "code",
   "execution_count": 99,
   "id": "d91ab9c6",
   "metadata": {},
   "outputs": [
    {
     "data": {
      "text/plain": [
       "149699.02042450942"
      ]
     },
     "execution_count": 99,
     "metadata": {},
     "output_type": "execute_result"
    }
   ],
   "source": [
    "mean= df[\"salary_in_usd\"].mean()\n",
    "mean"
   ]
  },
  {
   "cell_type": "code",
   "execution_count": 100,
   "id": "b3556985",
   "metadata": {},
   "outputs": [],
   "source": [
    "df[\"salary_in_usd\"].replace(np.nan, mean, inplace=True)"
   ]
  },
  {
   "cell_type": "code",
   "execution_count": 101,
   "id": "16cded41",
   "metadata": {},
   "outputs": [
    {
     "data": {
      "text/plain": [
       "0       202730.000000\n",
       "1       149699.020425\n",
       "2       149699.020425\n",
       "3        96000.000000\n",
       "4       190000.000000\n",
       "            ...      \n",
       "4994    230000.000000\n",
       "4995     81250.000000\n",
       "4996     68750.000000\n",
       "4997    267900.000000\n",
       "4998    234700.000000\n",
       "Name: salary_in_usd, Length: 4999, dtype: float64"
      ]
     },
     "execution_count": 101,
     "metadata": {},
     "output_type": "execute_result"
    }
   ],
   "source": [
    "df[\"salary_in_usd\"]"
   ]
  },
  {
   "cell_type": "markdown",
   "id": "5218b4e9",
   "metadata": {},
   "source": [
    "# Data Normalization\n"
   ]
  },
  {
   "cell_type": "code",
   "execution_count": 102,
   "id": "128d5d58",
   "metadata": {},
   "outputs": [
    {
     "data": {
      "text/html": [
       "<div>\n",
       "<style scoped>\n",
       "    .dataframe tbody tr th:only-of-type {\n",
       "        vertical-align: middle;\n",
       "    }\n",
       "\n",
       "    .dataframe tbody tr th {\n",
       "        vertical-align: top;\n",
       "    }\n",
       "\n",
       "    .dataframe thead th {\n",
       "        text-align: right;\n",
       "    }\n",
       "</style>\n",
       "<table border=\"1\" class=\"dataframe\">\n",
       "  <thead>\n",
       "    <tr style=\"text-align: right;\">\n",
       "      <th></th>\n",
       "      <th>work_year</th>\n",
       "      <th>experience_level</th>\n",
       "      <th>employment_type</th>\n",
       "      <th>job_title</th>\n",
       "      <th>salary</th>\n",
       "      <th>salary_currency</th>\n",
       "      <th>salary_in_usd</th>\n",
       "      <th>employee_residence</th>\n",
       "      <th>remote_ratio</th>\n",
       "      <th>company_location</th>\n",
       "      <th>company_size</th>\n",
       "    </tr>\n",
       "  </thead>\n",
       "  <tbody>\n",
       "    <tr>\n",
       "      <th>0</th>\n",
       "      <td>2024</td>\n",
       "      <td>SE</td>\n",
       "      <td>FT</td>\n",
       "      <td>AI Engineer</td>\n",
       "      <td>202730.000000</td>\n",
       "      <td>USD</td>\n",
       "      <td>202730.000000</td>\n",
       "      <td>US</td>\n",
       "      <td>0.000000</td>\n",
       "      <td>US</td>\n",
       "      <td>M</td>\n",
       "    </tr>\n",
       "    <tr>\n",
       "      <th>1</th>\n",
       "      <td>2024</td>\n",
       "      <td>SE</td>\n",
       "      <td>FT</td>\n",
       "      <td>AI Engineer</td>\n",
       "      <td>151294.502603</td>\n",
       "      <td>USD</td>\n",
       "      <td>149699.020425</td>\n",
       "      <td>US</td>\n",
       "      <td>0.000000</td>\n",
       "      <td>US</td>\n",
       "      <td>M</td>\n",
       "    </tr>\n",
       "    <tr>\n",
       "      <th>2</th>\n",
       "      <td>2024</td>\n",
       "      <td>SE</td>\n",
       "      <td>FT</td>\n",
       "      <td>Data Engineer</td>\n",
       "      <td>151294.502603</td>\n",
       "      <td>USD</td>\n",
       "      <td>149699.020425</td>\n",
       "      <td>US</td>\n",
       "      <td>24.379504</td>\n",
       "      <td>US</td>\n",
       "      <td>M</td>\n",
       "    </tr>\n",
       "    <tr>\n",
       "      <th>3</th>\n",
       "      <td>2024</td>\n",
       "      <td>SE</td>\n",
       "      <td>FT</td>\n",
       "      <td>Data Engineer</td>\n",
       "      <td>151294.502603</td>\n",
       "      <td>USD</td>\n",
       "      <td>96000.000000</td>\n",
       "      <td>US</td>\n",
       "      <td>24.379504</td>\n",
       "      <td>US</td>\n",
       "      <td>M</td>\n",
       "    </tr>\n",
       "    <tr>\n",
       "      <th>4</th>\n",
       "      <td>2024</td>\n",
       "      <td>SE</td>\n",
       "      <td>FT</td>\n",
       "      <td>Machine Learning Engineer</td>\n",
       "      <td>190000.000000</td>\n",
       "      <td>USD</td>\n",
       "      <td>190000.000000</td>\n",
       "      <td>US</td>\n",
       "      <td>0.000000</td>\n",
       "      <td>US</td>\n",
       "      <td>M</td>\n",
       "    </tr>\n",
       "  </tbody>\n",
       "</table>\n",
       "</div>"
      ],
      "text/plain": [
       "   work_year experience_level employment_type                  job_title  \\\n",
       "0       2024               SE              FT                AI Engineer   \n",
       "1       2024               SE              FT                AI Engineer   \n",
       "2       2024               SE              FT              Data Engineer   \n",
       "3       2024               SE              FT              Data Engineer   \n",
       "4       2024               SE              FT  Machine Learning Engineer   \n",
       "\n",
       "          salary salary_currency  salary_in_usd employee_residence  \\\n",
       "0  202730.000000             USD  202730.000000                 US   \n",
       "1  151294.502603             USD  149699.020425                 US   \n",
       "2  151294.502603             USD  149699.020425                 US   \n",
       "3  151294.502603             USD   96000.000000                 US   \n",
       "4  190000.000000             USD  190000.000000                 US   \n",
       "\n",
       "   remote_ratio company_location company_size  \n",
       "0      0.000000               US            M  \n",
       "1      0.000000               US            M  \n",
       "2     24.379504               US            M  \n",
       "3     24.379504               US            M  \n",
       "4      0.000000               US            M  "
      ]
     },
     "execution_count": 102,
     "metadata": {},
     "output_type": "execute_result"
    }
   ],
   "source": [
    "df.head()"
   ]
  },
  {
   "cell_type": "code",
   "execution_count": 103,
   "id": "761740af",
   "metadata": {},
   "outputs": [
    {
     "data": {
      "text/plain": [
       "work_year               int64\n",
       "experience_level       object\n",
       "employment_type        object\n",
       "job_title              object\n",
       "salary                float64\n",
       "salary_currency        object\n",
       "salary_in_usd         float64\n",
       "employee_residence     object\n",
       "remote_ratio          float64\n",
       "company_location       object\n",
       "company_size           object\n",
       "dtype: object"
      ]
     },
     "execution_count": 103,
     "metadata": {},
     "output_type": "execute_result"
    }
   ],
   "source": [
    "df.dtypes"
   ]
  },
  {
   "cell_type": "code",
   "execution_count": 104,
   "id": "c8dd2d5e",
   "metadata": {},
   "outputs": [
    {
     "data": {
      "text/plain": [
       "0       202730.000000\n",
       "1       151294.502603\n",
       "2       151294.502603\n",
       "3       151294.502603\n",
       "4       190000.000000\n",
       "            ...      \n",
       "4994    230000.000000\n",
       "4995     65000.000000\n",
       "4996     55000.000000\n",
       "4997    267900.000000\n",
       "4998    234700.000000\n",
       "Name: salary, Length: 4999, dtype: float64"
      ]
     },
     "execution_count": 104,
     "metadata": {},
     "output_type": "execute_result"
    }
   ],
   "source": [
    "df[\"salary\"]"
   ]
  },
  {
   "cell_type": "code",
   "execution_count": 105,
   "id": "8d4a6efe",
   "metadata": {},
   "outputs": [
    {
     "data": {
      "text/plain": [
       "4000000.0"
      ]
     },
     "execution_count": 105,
     "metadata": {},
     "output_type": "execute_result"
    }
   ],
   "source": [
    "df[\"salary\"].max()"
   ]
  },
  {
   "cell_type": "markdown",
   "id": "f5bfb0ef",
   "metadata": {},
   "source": [
    "## Simple feature scaling\n",
    "# divide each value by maximum value in salary column"
   ]
  },
  {
   "cell_type": "code",
   "execution_count": 106,
   "id": "bde88166",
   "metadata": {},
   "outputs": [],
   "source": [
    "df[\"salary\"] = df[\"salary\"]/ df[\"salary\"].max()"
   ]
  },
  {
   "cell_type": "code",
   "execution_count": 107,
   "id": "b24c127a",
   "metadata": {},
   "outputs": [
    {
     "data": {
      "text/plain": [
       "0       0.050682\n",
       "1       0.037824\n",
       "2       0.037824\n",
       "3       0.037824\n",
       "4       0.047500\n",
       "          ...   \n",
       "4994    0.057500\n",
       "4995    0.016250\n",
       "4996    0.013750\n",
       "4997    0.066975\n",
       "4998    0.058675\n",
       "Name: salary, Length: 4999, dtype: float64"
      ]
     },
     "execution_count": 107,
     "metadata": {},
     "output_type": "execute_result"
    }
   ],
   "source": [
    "df[\"salary\"]"
   ]
  },
  {
   "cell_type": "code",
   "execution_count": 108,
   "id": "2e69ed37",
   "metadata": {},
   "outputs": [
    {
     "data": {
      "text/plain": [
       "1.0"
      ]
     },
     "execution_count": 108,
     "metadata": {},
     "output_type": "execute_result"
    }
   ],
   "source": [
    "df[\"salary\"].max()"
   ]
  },
  {
   "cell_type": "markdown",
   "id": "5b192a90",
   "metadata": {},
   "source": [
    "#  Min Max Scaling\n"
   ]
  },
  {
   "cell_type": "code",
   "execution_count": 109,
   "id": "843f320d",
   "metadata": {},
   "outputs": [
    {
     "data": {
      "text/plain": [
       "0       202730.000000\n",
       "1       149699.020425\n",
       "2       149699.020425\n",
       "3        96000.000000\n",
       "4       190000.000000\n",
       "            ...      \n",
       "4994    230000.000000\n",
       "4995     81250.000000\n",
       "4996     68750.000000\n",
       "4997    267900.000000\n",
       "4998    234700.000000\n",
       "Name: salary_in_usd, Length: 4999, dtype: float64"
      ]
     },
     "execution_count": 109,
     "metadata": {},
     "output_type": "execute_result"
    }
   ],
   "source": [
    "df[\"salary_in_usd\"]"
   ]
  },
  {
   "cell_type": "code",
   "execution_count": 110,
   "id": "fec4de8a",
   "metadata": {},
   "outputs": [
    {
     "name": "stdout",
     "output_type": "stream",
     "text": [
      "800000.0 17598.0\n"
     ]
    }
   ],
   "source": [
    "print(df[\"salary_in_usd\"].max(), df[\"salary_in_usd\"].min() )"
   ]
  },
  {
   "cell_type": "code",
   "execution_count": 111,
   "id": "64bc3fed",
   "metadata": {},
   "outputs": [],
   "source": [
    "df[\"salary_in_usd\"] = (df[\"salary_in_usd\"] - df[\"salary_in_usd\"].min() ) / (df[\"salary_in_usd\"].max() - df[\"salary_in_usd\"].min() )"
   ]
  },
  {
   "cell_type": "code",
   "execution_count": 112,
   "id": "8060b1a0",
   "metadata": {},
   "outputs": [
    {
     "data": {
      "text/plain": [
       "0       0.236620\n",
       "1       0.168840\n",
       "2       0.168840\n",
       "3       0.100207\n",
       "4       0.220350\n",
       "          ...   \n",
       "4994    0.271474\n",
       "4995    0.081355\n",
       "4996    0.065378\n",
       "4997    0.319915\n",
       "4998    0.277481\n",
       "Name: salary_in_usd, Length: 4999, dtype: float64"
      ]
     },
     "execution_count": 112,
     "metadata": {},
     "output_type": "execute_result"
    }
   ],
   "source": [
    "df[\"salary_in_usd\"]"
   ]
  },
  {
   "cell_type": "code",
   "execution_count": 113,
   "id": "63c46c69",
   "metadata": {},
   "outputs": [
    {
     "name": "stdout",
     "output_type": "stream",
     "text": [
      "1.0 0.0\n"
     ]
    }
   ],
   "source": [
    "print(df[\"salary_in_usd\"].max(), df[\"salary_in_usd\"].min() )"
   ]
  },
  {
   "cell_type": "markdown",
   "id": "490bb7ee",
   "metadata": {},
   "source": [
    "# Z-score normalization technique\n"
   ]
  },
  {
   "cell_type": "code",
   "execution_count": 114,
   "id": "97fafa1b",
   "metadata": {},
   "outputs": [
    {
     "data": {
      "text/plain": [
       "0        0.000000\n",
       "1        0.000000\n",
       "2       24.379504\n",
       "3       24.379504\n",
       "4        0.000000\n",
       "          ...    \n",
       "4994     0.000000\n",
       "4995     0.000000\n",
       "4996     0.000000\n",
       "4997     0.000000\n",
       "4998     0.000000\n",
       "Name: remote_ratio, Length: 4999, dtype: float64"
      ]
     },
     "execution_count": 114,
     "metadata": {},
     "output_type": "execute_result"
    }
   ],
   "source": [
    "df[\"remote_ratio\"]"
   ]
  },
  {
   "cell_type": "code",
   "execution_count": 115,
   "id": "fe17e201",
   "metadata": {},
   "outputs": [
    {
     "name": "stdout",
     "output_type": "stream",
     "text": [
      "100.0 0.0\n"
     ]
    }
   ],
   "source": [
    "print(df[\"remote_ratio\"].max(), df[\"remote_ratio\"].min() )"
   ]
  },
  {
   "cell_type": "code",
   "execution_count": 116,
   "id": "b942cb14",
   "metadata": {},
   "outputs": [],
   "source": [
    "df[\"remote_ratio\"] = (df[\"remote_ratio\"] - df[\"remote_ratio\"].mean()) / df[\"remote_ratio\"].std()"
   ]
  },
  {
   "cell_type": "code",
   "execution_count": 117,
   "id": "5d5dac76",
   "metadata": {},
   "outputs": [
    {
     "data": {
      "text/plain": [
       "0      -0.569458\n",
       "1      -0.569458\n",
       "2       0.000000\n",
       "3       0.000000\n",
       "4      -0.569458\n",
       "          ...   \n",
       "4994   -0.569458\n",
       "4995   -0.569458\n",
       "4996   -0.569458\n",
       "4997   -0.569458\n",
       "4998   -0.569458\n",
       "Name: remote_ratio, Length: 4999, dtype: float64"
      ]
     },
     "execution_count": 117,
     "metadata": {},
     "output_type": "execute_result"
    }
   ],
   "source": [
    "df[\"remote_ratio\"]"
   ]
  },
  {
   "cell_type": "code",
   "execution_count": 118,
   "id": "0b3ff524",
   "metadata": {},
   "outputs": [
    {
     "name": "stdout",
     "output_type": "stream",
     "text": [
      "1.7663479058252494 -0.5694578478811947\n"
     ]
    }
   ],
   "source": [
    "print(df[\"remote_ratio\"].max(), df[\"remote_ratio\"].min() )"
   ]
  },
  {
   "cell_type": "markdown",
   "id": "0ed33745",
   "metadata": {},
   "source": [
    "# Binning"
   ]
  },
  {
   "cell_type": "code",
   "execution_count": 119,
   "id": "3e3aa7f7",
   "metadata": {},
   "outputs": [],
   "source": [
    "df[\"salary\"].replace(\"?\", np.nan, inplace = True)\n",
    "df[\"salary\"] = pd.to_numeric(df[\"salary\"])"
   ]
  },
  {
   "cell_type": "markdown",
   "id": "b750db42",
   "metadata": {},
   "source": [
    "# It returns the array elements that are evenly distributed\n"
   ]
  },
  {
   "cell_type": "code",
   "execution_count": 120,
   "id": "52bdfaac",
   "metadata": {},
   "outputs": [],
   "source": [
    "bins = np.linspace(min(df[\"salary\"]), max(df[\"salary\"]), 4)"
   ]
  },
  {
   "cell_type": "code",
   "execution_count": 121,
   "id": "1e09a554",
   "metadata": {},
   "outputs": [
    {
     "data": {
      "text/plain": [
       "array([0.0043995 , 0.33626633, 0.66813317, 1.        ])"
      ]
     },
     "execution_count": 121,
     "metadata": {},
     "output_type": "execute_result"
    }
   ],
   "source": [
    "bins"
   ]
  },
  {
   "cell_type": "code",
   "execution_count": 122,
   "id": "8bb6c59e",
   "metadata": {},
   "outputs": [],
   "source": [
    "group_names = [\"Low\", \"Medium\", \"High\"]"
   ]
  },
  {
   "cell_type": "markdown",
   "id": "5e445f72",
   "metadata": {},
   "source": [
    "# Segment data into bins\n"
   ]
  },
  {
   "cell_type": "code",
   "execution_count": 123,
   "id": "f3f7878d",
   "metadata": {},
   "outputs": [],
   "source": [
    "df[\"salary-binned\"] = pd.cut(df[\"salary\"],bins, labels=group_names, include_lowest = True)"
   ]
  },
  {
   "cell_type": "markdown",
   "id": "6f4305e8",
   "metadata": {},
   "source": [
    "# Explore price and price binned column\n"
   ]
  },
  {
   "cell_type": "code",
   "execution_count": 124,
   "id": "547e24fa",
   "metadata": {},
   "outputs": [
    {
     "data": {
      "text/html": [
       "<div>\n",
       "<style scoped>\n",
       "    .dataframe tbody tr th:only-of-type {\n",
       "        vertical-align: middle;\n",
       "    }\n",
       "\n",
       "    .dataframe tbody tr th {\n",
       "        vertical-align: top;\n",
       "    }\n",
       "\n",
       "    .dataframe thead th {\n",
       "        text-align: right;\n",
       "    }\n",
       "</style>\n",
       "<table border=\"1\" class=\"dataframe\">\n",
       "  <thead>\n",
       "    <tr style=\"text-align: right;\">\n",
       "      <th></th>\n",
       "      <th>salary</th>\n",
       "      <th>salary-binned</th>\n",
       "    </tr>\n",
       "  </thead>\n",
       "  <tbody>\n",
       "    <tr>\n",
       "      <th>0</th>\n",
       "      <td>0.050682</td>\n",
       "      <td>Low</td>\n",
       "    </tr>\n",
       "    <tr>\n",
       "      <th>1</th>\n",
       "      <td>0.037824</td>\n",
       "      <td>Low</td>\n",
       "    </tr>\n",
       "    <tr>\n",
       "      <th>2</th>\n",
       "      <td>0.037824</td>\n",
       "      <td>Low</td>\n",
       "    </tr>\n",
       "    <tr>\n",
       "      <th>3</th>\n",
       "      <td>0.037824</td>\n",
       "      <td>Low</td>\n",
       "    </tr>\n",
       "    <tr>\n",
       "      <th>4</th>\n",
       "      <td>0.047500</td>\n",
       "      <td>Low</td>\n",
       "    </tr>\n",
       "    <tr>\n",
       "      <th>...</th>\n",
       "      <td>...</td>\n",
       "      <td>...</td>\n",
       "    </tr>\n",
       "    <tr>\n",
       "      <th>4994</th>\n",
       "      <td>0.057500</td>\n",
       "      <td>Low</td>\n",
       "    </tr>\n",
       "    <tr>\n",
       "      <th>4995</th>\n",
       "      <td>0.016250</td>\n",
       "      <td>Low</td>\n",
       "    </tr>\n",
       "    <tr>\n",
       "      <th>4996</th>\n",
       "      <td>0.013750</td>\n",
       "      <td>Low</td>\n",
       "    </tr>\n",
       "    <tr>\n",
       "      <th>4997</th>\n",
       "      <td>0.066975</td>\n",
       "      <td>Low</td>\n",
       "    </tr>\n",
       "    <tr>\n",
       "      <th>4998</th>\n",
       "      <td>0.058675</td>\n",
       "      <td>Low</td>\n",
       "    </tr>\n",
       "  </tbody>\n",
       "</table>\n",
       "<p>4999 rows × 2 columns</p>\n",
       "</div>"
      ],
      "text/plain": [
       "        salary salary-binned\n",
       "0     0.050682           Low\n",
       "1     0.037824           Low\n",
       "2     0.037824           Low\n",
       "3     0.037824           Low\n",
       "4     0.047500           Low\n",
       "...        ...           ...\n",
       "4994  0.057500           Low\n",
       "4995  0.016250           Low\n",
       "4996  0.013750           Low\n",
       "4997  0.066975           Low\n",
       "4998  0.058675           Low\n",
       "\n",
       "[4999 rows x 2 columns]"
      ]
     },
     "execution_count": 124,
     "metadata": {},
     "output_type": "execute_result"
    }
   ],
   "source": [
    "df[ [\"salary\", \"salary-binned\"] ]"
   ]
  },
  {
   "cell_type": "markdown",
   "id": "a8603d7d",
   "metadata": {},
   "source": [
    "# Exploratory Data Analysis\n"
   ]
  },
  {
   "cell_type": "markdown",
   "id": "324cb4a4",
   "metadata": {},
   "source": [
    "## Descriptive statistics\n"
   ]
  },
  {
   "cell_type": "code",
   "execution_count": 125,
   "id": "95af5bba",
   "metadata": {},
   "outputs": [
    {
     "data": {
      "text/html": [
       "<div>\n",
       "<style scoped>\n",
       "    .dataframe tbody tr th:only-of-type {\n",
       "        vertical-align: middle;\n",
       "    }\n",
       "\n",
       "    .dataframe tbody tr th {\n",
       "        vertical-align: top;\n",
       "    }\n",
       "\n",
       "    .dataframe thead th {\n",
       "        text-align: right;\n",
       "    }\n",
       "</style>\n",
       "<table border=\"1\" class=\"dataframe\">\n",
       "  <thead>\n",
       "    <tr style=\"text-align: right;\">\n",
       "      <th></th>\n",
       "      <th>work_year</th>\n",
       "      <th>salary</th>\n",
       "      <th>salary_in_usd</th>\n",
       "      <th>remote_ratio</th>\n",
       "    </tr>\n",
       "  </thead>\n",
       "  <tbody>\n",
       "    <tr>\n",
       "      <th>count</th>\n",
       "      <td>4999.000000</td>\n",
       "      <td>4999.000000</td>\n",
       "      <td>4999.000000</td>\n",
       "      <td>4.999000e+03</td>\n",
       "    </tr>\n",
       "    <tr>\n",
       "      <th>mean</th>\n",
       "      <td>2023.997199</td>\n",
       "      <td>0.037824</td>\n",
       "      <td>0.168840</td>\n",
       "      <td>-5.569993e-16</td>\n",
       "    </tr>\n",
       "    <tr>\n",
       "      <th>std</th>\n",
       "      <td>0.066287</td>\n",
       "      <td>0.026056</td>\n",
       "      <td>0.091914</td>\n",
       "      <td>1.000000e+00</td>\n",
       "    </tr>\n",
       "    <tr>\n",
       "      <th>min</th>\n",
       "      <td>2022.000000</td>\n",
       "      <td>0.004399</td>\n",
       "      <td>0.000000</td>\n",
       "      <td>-5.694578e-01</td>\n",
       "    </tr>\n",
       "    <tr>\n",
       "      <th>25%</th>\n",
       "      <td>2024.000000</td>\n",
       "      <td>0.025000</td>\n",
       "      <td>0.105319</td>\n",
       "      <td>-5.694578e-01</td>\n",
       "    </tr>\n",
       "    <tr>\n",
       "      <th>50%</th>\n",
       "      <td>2024.000000</td>\n",
       "      <td>0.035000</td>\n",
       "      <td>0.156444</td>\n",
       "      <td>-5.694578e-01</td>\n",
       "    </tr>\n",
       "    <tr>\n",
       "      <th>75%</th>\n",
       "      <td>2024.000000</td>\n",
       "      <td>0.046463</td>\n",
       "      <td>0.213959</td>\n",
       "      <td>-5.694578e-01</td>\n",
       "    </tr>\n",
       "    <tr>\n",
       "      <th>max</th>\n",
       "      <td>2024.000000</td>\n",
       "      <td>1.000000</td>\n",
       "      <td>1.000000</td>\n",
       "      <td>1.766348e+00</td>\n",
       "    </tr>\n",
       "  </tbody>\n",
       "</table>\n",
       "</div>"
      ],
      "text/plain": [
       "         work_year       salary  salary_in_usd  remote_ratio\n",
       "count  4999.000000  4999.000000    4999.000000  4.999000e+03\n",
       "mean   2023.997199     0.037824       0.168840 -5.569993e-16\n",
       "std       0.066287     0.026056       0.091914  1.000000e+00\n",
       "min    2022.000000     0.004399       0.000000 -5.694578e-01\n",
       "25%    2024.000000     0.025000       0.105319 -5.694578e-01\n",
       "50%    2024.000000     0.035000       0.156444 -5.694578e-01\n",
       "75%    2024.000000     0.046463       0.213959 -5.694578e-01\n",
       "max    2024.000000     1.000000       1.000000  1.766348e+00"
      ]
     },
     "execution_count": 125,
     "metadata": {},
     "output_type": "execute_result"
    }
   ],
   "source": [
    "df.describe()"
   ]
  },
  {
   "cell_type": "markdown",
   "id": "abdeb599",
   "metadata": {},
   "source": [
    "## Summarize the categorical data by using _value_counts( )_"
   ]
  },
  {
   "cell_type": "code",
   "execution_count": 126,
   "id": "4ebe3441",
   "metadata": {},
   "outputs": [
    {
     "data": {
      "text/plain": [
       "work_year                int64\n",
       "experience_level        object\n",
       "employment_type         object\n",
       "job_title               object\n",
       "salary                 float64\n",
       "salary_currency         object\n",
       "salary_in_usd          float64\n",
       "employee_residence      object\n",
       "remote_ratio           float64\n",
       "company_location        object\n",
       "company_size            object\n",
       "salary-binned         category\n",
       "dtype: object"
      ]
     },
     "execution_count": 126,
     "metadata": {},
     "output_type": "execute_result"
    }
   ],
   "source": [
    "df.dtypes"
   ]
  },
  {
   "cell_type": "markdown",
   "id": "ef9126aa",
   "metadata": {},
   "source": [
    "## Box plot"
   ]
  },
  {
   "cell_type": "markdown",
   "id": "993299a1",
   "metadata": {},
   "source": [
    "### replace all the missing values in price column with nan\n"
   ]
  },
  {
   "cell_type": "code",
   "execution_count": 128,
   "id": "a0b9f201",
   "metadata": {},
   "outputs": [],
   "source": [
    "df[\"salary\"].replace(\"?\", np.nan, inplace = True)\n",
    "df[\"salary\"] = pd.to_numeric(df[\"salary\"])"
   ]
  },
  {
   "cell_type": "code",
   "execution_count": 130,
   "id": "648943d4",
   "metadata": {},
   "outputs": [
    {
     "data": {
      "text/plain": [
       "<AxesSubplot:xlabel='work_year', ylabel='salary'>"
      ]
     },
     "execution_count": 130,
     "metadata": {},
     "output_type": "execute_result"
    },
    {
     "data": {
      "image/png": "[encoded data removed]",
      "text/plain": [
       "<Figure size 640x480 with 1 Axes>"
      ]
     },
     "metadata": {},
     "output_type": "display_data"
    }
   ],
   "source": [
    "import seaborn as sns\n",
    "sns.boxplot(x=\"work_year\", y = \"salary\", data = df)"
   ]
  },
  {
   "cell_type": "markdown",
   "id": "0f86b980",
   "metadata": {},
   "source": [
    "## Scatter Plot"
   ]
  },
  {
   "cell_type": "markdown",
   "id": "c2eebb2f",
   "metadata": {},
   "source": [
    "#### The salary is increasing salary_in_usd as the  increases\n"
   ]
  },
  {
   "cell_type": "code",
   "execution_count": 132,
   "id": "d6d70537",
   "metadata": {},
   "outputs": [
    {
     "ename": "NameError",
     "evalue": "name 'mmplt' is not defined",
     "output_type": "error",
     "traceback": [
      "\u001b[1;31m---------------------------------------------------------------------------\u001b[0m",
      "\u001b[1;31mNameError\u001b[0m                                 Traceback (most recent call last)",
      "\u001b[1;32m~\\AppData\\Local\\Temp\\ipykernel_6768\\4163939314.py\u001b[0m in \u001b[0;36m<module>\u001b[1;34m\u001b[0m\n\u001b[0;32m      2\u001b[0m \u001b[0mplt\u001b[0m\u001b[1;33m.\u001b[0m\u001b[0mscatter\u001b[0m\u001b[1;33m(\u001b[0m\u001b[0mdf\u001b[0m\u001b[1;33m[\u001b[0m\u001b[1;34m\"salary_in_usd\"\u001b[0m\u001b[1;33m]\u001b[0m\u001b[1;33m,\u001b[0m \u001b[0mdf\u001b[0m\u001b[1;33m[\u001b[0m\u001b[1;34m\"salary\"\u001b[0m\u001b[1;33m]\u001b[0m\u001b[1;33m)\u001b[0m\u001b[1;33m\u001b[0m\u001b[1;33m\u001b[0m\u001b[0m\n\u001b[0;32m      3\u001b[0m \u001b[0mplt\u001b[0m\u001b[1;33m.\u001b[0m\u001b[0mtitle\u001b[0m\u001b[1;33m(\u001b[0m\u001b[1;34m\"Relationshi b/w salary_in_usd and salary\"\u001b[0m\u001b[1;33m)\u001b[0m\u001b[1;33m\u001b[0m\u001b[1;33m\u001b[0m\u001b[0m\n\u001b[1;32m----> 4\u001b[1;33m \u001b[0mmmplt\u001b[0m\u001b[1;33m.\u001b[0m\u001b[0mxlabel\u001b[0m\u001b[1;33m(\u001b[0m\u001b[1;34m\"salary_in_usd\"\u001b[0m\u001b[1;33m)\u001b[0m\u001b[1;33m\u001b[0m\u001b[1;33m\u001b[0m\u001b[0m\n\u001b[0m\u001b[0;32m      5\u001b[0m \u001b[0mhkjplt\u001b[0m\u001b[1;33m.\u001b[0m\u001b[0mylabel\u001b[0m\u001b[1;33m(\u001b[0m\u001b[1;34m\"salary1\"\u001b[0m\u001b[1;33m)\u001b[0m\u001b[1;33m\u001b[0m\u001b[1;33m\u001b[0m\u001b[0m\n",
      "\u001b[1;31mNameError\u001b[0m: name 'mmplt' is not defined"
     ]
    },
    {
     "data": {
      "image/png": "[encoded data removed]",
      "text/plain": [
       "<Figure size 640x480 with 1 Axes>"
      ]
     },
     "metadata": {},
     "output_type": "display_data"
    }
   ],
   "source": [
    "import matplotlib.pyplot as plt\n",
    "plt.scatter(df[\"salary_in_usd\"], df[\"salary\"])\n",
    "plt.title(\"Relationshi b/w salary_in_usd and salary\")\n",
    "mmplt.xlabel(\"salary_in_usd\")\n",
    "hkjplt.ylabel(\"salary1\")"
   ]
  },
  {
   "cell_type": "code",
   "execution_count": null,
   "id": "bffe06b1",
   "metadata": {},
   "outputs": [],
   "source": []
  }
 ],
 "metadata": {
  "kernelspec": {
   "display_name": "Python 3 (ipykernel)",
   "language": "python",
   "name": "python3"
  },
  "language_info": {
   "codemirror_mode": {
    "name": "ipython",
    "version": 3
   },
   "file_extension": ".py",
   "mimetype": "text/x-python",
   "name": "python",
   "nbconvert_exporter": "python",
   "pygments_lexer": "ipython3",
   "version": "3.9.13"
  }
 },
 "nbformat": 4,
 "nbformat_minor": 5
}
